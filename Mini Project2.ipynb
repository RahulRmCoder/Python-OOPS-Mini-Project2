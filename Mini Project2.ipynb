{
 "cells": [
  {
   "cell_type": "code",
   "execution_count": 2,
   "id": "f5416eba",
   "metadata": {},
   "outputs": [
    {
     "name": "stdout",
     "output_type": "stream",
     "text": [
      "('Balaji', 285)\n"
     ]
    }
   ],
   "source": [
    "def Max_Score(M):\n",
    "    total_scores = {}\n",
    "    for test in M.values():\n",
    "        for player, score in test.items():\n",
    "            if player in total_scores:\n",
    "                total_scores[player] += score\n",
    "            else:\n",
    "                total_scores[player] = score\n",
    "    \n",
    "    top_player = None\n",
    "    top_score = 0\n",
    "    for player, score in total_scores.items():\n",
    "        if score > top_score:\n",
    "            top_player = player\n",
    "            top_score = score\n",
    "    \n",
    "    return (top_player, top_score)\n",
    "\n",
    "M = {'test1': {'Dhoni': 56, 'Balaji': 85}, 'test2': {'Dhoni': 87, 'Balaji': 200}}\n",
    "print(Max_Score(M))"
   ]
  },
  {
   "cell_type": "code",
   "execution_count": null,
   "id": "cd91b4c0",
   "metadata": {},
   "outputs": [],
   "source": []
  }
 ],
 "metadata": {
  "kernelspec": {
   "display_name": "Python 3 (ipykernel)",
   "language": "python",
   "name": "python3"
  },
  "language_info": {
   "codemirror_mode": {
    "name": "ipython",
    "version": 3
   },
   "file_extension": ".py",
   "mimetype": "text/x-python",
   "name": "python",
   "nbconvert_exporter": "python",
   "pygments_lexer": "ipython3",
   "version": "3.9.12"
  }
 },
 "nbformat": 4,
 "nbformat_minor": 5
}
